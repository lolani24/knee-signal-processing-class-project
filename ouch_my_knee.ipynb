{
  "cells": [
    {
      "cell_type": "markdown",
      "id": "50a629e4-8af9-416d-8fac-31a92ad75f07",
      "metadata": {
        "id": "50a629e4-8af9-416d-8fac-31a92ad75f07"
      },
      "source": [
        "# Analysis of Knee X-Rays of Patients with and without Osteo-Arthritis"
      ]
    },
    {
      "cell_type": "code",
      "execution_count": null,
      "id": "c6ae7771-0d30-49e7-8804-fc3c0529eb38",
      "metadata": {
        "id": "c6ae7771-0d30-49e7-8804-fc3c0529eb38"
      },
      "outputs": [],
      "source": [
        "# import necessary libraries\n",
        "import numpy as np\n",
        "import matplotlib.pyplot as plt\n",
        "import glob\n",
        "import skimage\n",
        "from skimage import data, io, filters\n"
      ]
    },
    {
      "cell_type": "markdown",
      "id": "1586a64b",
      "metadata": {
        "id": "1586a64b"
      },
      "source": [
        "### Accessing the Photos\n",
        "Here, we'll first use glob to gather all the photo paths using glob. Using the glob module, we can recursively extract filenames from our directory using a search string.\n",
        "\n",
        "\n",
        "Next we'll use a for loop to create an array containing the image as a set of numerical pixel values.\n"
      ]
    },
    {
      "cell_type": "code",
      "execution_count": null,
      "id": "3b34f376",
      "metadata": {
        "id": "3b34f376",
        "outputId": "06a46e04-84ac-40e0-9890-c995e4b6503d"
      },
      "outputs": [],
      "source": [
        "filenames = glob.glob('**/*.png', recursive = True)\n",
        "print(filenames[:5])"
      ]
    },
    {
      "cell_type": "code",
      "execution_count": null,
      "id": "7dc9fb0d",
      "metadata": {
        "id": "7dc9fb0d"
      },
      "outputs": [],
      "source": [
        "'''croping fucntion crops the images to the section of the gap\n",
        "of the entire image'''\n",
        "\n",
        "def crop_img(pic):\n",
        "    img = io.imread(pic)\n",
        "    cropped = img[65:(img.shape[0]-15),25:(img.shape[1]-15)]\n",
        "    return cropped\n"
      ]
    },
    {
      "cell_type": "code",
      "execution_count": null,
      "id": "d1385e36",
      "metadata": {
        "id": "d1385e36",
        "outputId": "5d243326-0b6d-45a3-a6fb-c5c6c348178a"
      },
      "outputs": [],
      "source": [
        "type(filenames)"
      ]
    },
    {
      "cell_type": "markdown",
      "id": "509a7ee3",
      "metadata": {
        "id": "509a7ee3"
      },
      "source": [
        "### gapwidth()\n",
        "\n",
        "The def gap_width(img) is used to define the gap width of interest from the knee image. Center = img.shape[1]//2 is taking the center of the image, dividing in half from the top and bottom. While taking the width = 10 horizontally on both sides from the center. We used gaps = [] to define the gap width in columns. By using np.arrange(), we define the area we want relative to the center and width range. The data = img[:,col,0] defines the column/cropped image. Using the min, max, and range function to find the image size, then with np.where() to define the condition. We use np.sum() to add up all the conditions we inputted and gaps.append() to create a list of all the points within the defined gap width. Then the return np.mean() to return the average of the gap.\n"
      ]
    },
    {
      "cell_type": "code",
      "execution_count": null,
      "id": "052520a8",
      "metadata": {
        "id": "052520a8"
      },
      "outputs": [],
      "source": [
        "def gap_width(img): # two person job (Leilani and Sophia)\n",
        "    # for p in pics:\n",
        "    img = crop_img(img)\n",
        "    center = img.shape[1]//2\n",
        "    width = 10\n",
        "    gaps = []\n",
        "    for col in np.arange(center-width,center+width):\n",
        "        data = img[:,col] # is this the right column?\n",
        "        min = np.min(data)\n",
        "        max = np.max(data)\n",
        "        range = max-min\n",
        "        example = np.where(data < (min+0.15*range), 1, 0)\n",
        "        gap = np.sum(example)\n",
        "        gaps.append(gap)\n",
        "\n",
        "    return np.mean(gaps, out=None).tolist()\n",
        "\n",
        "# Try it out on a few and see if it makes sense\n",
        "# figure out how to deal with no gap???\n"
      ]
    },
    {
      "cell_type": "markdown",
      "id": "b46bbb5e",
      "metadata": {
        "id": "b46bbb5e"
      },
      "source": [
        "### Transphorm()"
      ]
    },
    {
      "cell_type": "code",
      "execution_count": null,
      "id": "654710b4",
      "metadata": {
        "id": "654710b4"
      },
      "outputs": [],
      "source": [
        "'''\n",
        "transphorm():\n",
        "    args: file list\n",
        "     definition: this function takes a file list of knee x-rays and returns\n",
        "     an array containing the severity and the width between the femur and the meniscus\n",
        "'''\n",
        "\n",
        "def transphorm(file):\n",
        "    data = []\n",
        "    for f in file:\n",
        "        crop_img(f)\n",
        "        width = gap_width(f)\n",
        "        #print(width)\n",
        "        data.append(width)\n",
        "        #data = np.asarray(data)\n",
        "    return data"
      ]
    },
    {
      "cell_type": "code",
      "execution_count": null,
      "id": "ef498297",
      "metadata": {
        "id": "ef498297",
        "outputId": "df6f033b-99ee-4d6d-bebb-6296224f5335"
      },
      "outputs": [],
      "source": [
        "import numpy as np\n",
        "import matplotlib.pyplot as plt\n",
        "\n",
        "def severity(limit_gap):\n",
        "    if limit_gap < 5: return 'Severe'\n",
        "    elif limit_gap < 10: return 'Moderate'\n",
        "    elif limit_gap < 15: return 'Mild'\n",
        "    elif limit_gap < 20: return 'Doubtful'\n",
        "    else: return 'Normal'\n",
        "\n",
        "# limit_gap is the parameter for the function.\n",
        "# that parameter is a numeric value, it can be int or float or double.\n",
        "# evaluates by means of an if structure to validate if the limit_gap is less than the set value\n",
        "# we return a string with the classification of the limit_gap\n",
        "\n",
        "# width_knees = np.loadtxt(fname='C:/Users/crist/Desktop/Second Year Fall/biomedical signal processsing/Project/width_knees.txt', skiprows=1)\n",
        "# We declare a variable to load the data, we use numpy's loadtxt. fname is the name of the file\n",
        "# skiprows allows you to skip or skip lines to avoid loading invalid data. If you have a header, you skip the header\n",
        "# setting value 1 in skiprows\n",
        "# print('width_knees', width_knees)\n",
        "# width_knees # this should change with the array the team send me as in the previous step Cimone\n",
        "\n",
        "\n",
        "data = transphorm(filenames)\n",
        "\n",
        "severity_knees = np.array([[width, severity(width)] for width in data], dtype='object')\n",
        "# We declare a variable called severity_kness.\n",
        "# We use list for comprehensiveness. list = [value for value in array].\n",
        "# we assemble a list containing as elements the width and the value returned by the severity function evaluated in width\n",
        "# np.array allows you to convert a traditional array into a numpy array.\n",
        "# dtype is to define the data type of the values of the dimensional array. object allows to have several data types\n",
        "# in the same dimensional array\n",
        "\n",
        "# for width in width_knees: # usamos for traditional\n",
        "# severity_knees.append([width, severity(width)]) # add a new item to the list using the append function.\n",
        "\n",
        "print('severity knees =', severity_knees)"
      ]
    },
    {
      "cell_type": "code",
      "execution_count": null,
      "id": "948ace38",
      "metadata": {
        "id": "948ace38",
        "outputId": "a12d2e80-b5bb-493d-8584-b80aed221aff"
      },
      "outputs": [],
      "source": [
        "mean = np.mean(severity_knees[0:,0])\n",
        "print('mean =', mean) #average of the severity data\n",
        "\n",
        "max = np.max(severity_knees[0:,0]) # maximum data in an array\n",
        "min = np.min(severity_knees[0:,0])\n",
        "print('max =', max, 'min =', min) # minimum data of an array\n",
        "\n",
        "std = np.std(severity_knees[0:,0])\n",
        "print('std =', std) # standard deviation of the data\n",
        "\n",
        "gap = mean + std\n",
        "print('gap =', gap) # we obtain the width by the sum of the mean and the standard deviation"
      ]
    },
    {
      "cell_type": "code",
      "execution_count": null,
      "id": "7d37d10c",
      "metadata": {
        "id": "7d37d10c"
      },
      "outputs": [],
      "source": [
        "\"\"\"\n",
        "    original data\n",
        "    places the photos by severity in lists\n",
        "\"\"\"\n",
        "doubtful = []\n",
        "severe = []\n",
        "mild = []\n",
        "normal = []\n",
        "for x in filenames:\n",
        "    if 'Doubtful' in x:\n",
        "        doubtful.append(x)\n",
        "    elif \"Severe\" in x:\n",
        "        severe.append(x)\n",
        "    elif 'Mild' in x:\n",
        "        mild.append(x)\n",
        "    else:\n",
        "        normal.append(x)"
      ]
    },
    {
      "cell_type": "code",
      "execution_count": null,
      "id": "8a364e6d",
      "metadata": {
        "id": "8a364e6d"
      },
      "outputs": [],
      "source": [
        "'''our algorithm\n",
        "    places the photos by severity in lists from our code '''\n",
        "\n",
        "doubtful_alg = []\n",
        "severe_alg = []\n",
        "mild_alg = []\n",
        "normal_alg = []\n",
        "for x in severity_knees[1:,1:]:\n",
        "    if 'Doubtful' in x:\n",
        "        doubtful_alg.append(x)\n",
        "    elif \"Severe\" in x:\n",
        "        severe_alg.append(x)\n",
        "    elif 'Mild' in x:\n",
        "        mild_alg.append(x)\n",
        "    else:\n",
        "        normal_alg.append(x)"
      ]
    },
    {
      "cell_type": "code",
      "execution_count": null,
      "id": "76b79a2f",
      "metadata": {
        "id": "76b79a2f",
        "outputId": "d76c7a0d-c3bb-4b6d-c0bb-8024bff0aac8"
      },
      "outputs": [],
      "source": [
        "\"\"\" getting the the averages of each stage and taking the percent errors\n",
        "between orignal data and our code \"\"\"\n",
        "\n",
        "org_normal = len(normal)/len(normal + mild + severe + doubtful)\n",
        "own_normal = len(normal_alg)/len(normal_alg + mild_alg + doubtful_alg + severe_alg)\n",
        "percent_error_normal = (own_normal-org_normal)/org_normal\n",
        "print(f\"The percent error for normal {percent_error_normal*100}%\")\n",
        "\n",
        "org_mild = len(mild)/len(normal + mild + severe + doubtful)\n",
        "own_mild = len(mild_alg)/len(normal_alg + mild_alg + doubtful_alg + severe_alg)\n",
        "percent_error_mild = abs((own_mild-org_mild)/org_mild)\n",
        "print(f\"The percent error for mild {percent_error_mild*100}%\")\n",
        "\n",
        "org_doubtful = len(doubtful)/len(normal + mild + severe + doubtful)\n",
        "own_doubtful = len(doubtful_alg)/len(normal_alg + mild_alg + doubtful_alg + severe_alg)\n",
        "percent_error_doubtful = abs((own_doubtful-org_doubtful)/org_doubtful)\n",
        "print(f\"The percent error for doubtful {percent_error_doubtful*100}%\")\n",
        "\n",
        "org_severe = len(severe)/len(normal + mild + severe + doubtful)\n",
        "own_severe = len(severe_alg)/len(normal_alg + mild_alg + doubtful_alg + severe_alg)\n",
        "percent_error_severe = abs((own_severe-org_severe)/org_severe)\n",
        "print(f\"The percent error for severe {percent_error_severe*100}%\")"
      ]
    }
  ],
  "metadata": {
    "colab": {
      "provenance": []
    },
    "kernelspec": {
      "display_name": "Python 3",
      "language": "python",
      "name": "python3"
    },
    "language_info": {
      "codemirror_mode": {
        "name": "ipython",
        "version": 3
      },
      "file_extension": ".py",
      "mimetype": "text/x-python",
      "name": "python",
      "nbconvert_exporter": "python",
      "pygments_lexer": "ipython3",
      "version": "3.9.6"
    }
  },
  "nbformat": 4,
  "nbformat_minor": 5
}
